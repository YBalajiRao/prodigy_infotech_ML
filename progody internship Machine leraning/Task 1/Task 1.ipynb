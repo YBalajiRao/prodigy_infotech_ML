{
 "cells": [
  {
   "cell_type": "code",
   "execution_count": 1,
   "id": "b495ea9d-efd9-4e90-a55a-f7cfef689de1",
   "metadata": {},
   "outputs": [
    {
     "name": "stdout",
     "output_type": "stream",
     "text": [
      "      price  area  bedrooms  bathrooms  stories mainroad guestroom basement  \\\n",
      "0  13300000  7420         4          2        3      yes        no       no   \n",
      "1  12250000  8960         4          4        4      yes        no       no   \n",
      "2  12250000  9960         3          2        2      yes        no      yes   \n",
      "3  12215000  7500         4          2        2      yes        no      yes   \n",
      "4  11410000  7420         4          1        2      yes       yes      yes   \n",
      "\n",
      "  hotwaterheating airconditioning  parking prefarea furnishingstatus  \n",
      "0              no             yes        2      yes        furnished  \n",
      "1              no             yes        3       no        furnished  \n",
      "2              no              no        2      yes   semi-furnished  \n",
      "3              no             yes        3      yes        furnished  \n",
      "4              no             yes        2       no        furnished  \n"
     ]
    }
   ],
   "source": [
    "import pandas as pd\n",
    "\n",
    "# Read the dataset\n",
    "file_path = r'C:\\Users\\91944\\Desktop\\progody internship Machine leraning\\Housing.csv'\n",
    "df = pd.read_csv(file_path)\n",
    "\n",
    "# Show first few rows to confirm it's loaded\n",
    "print(df.head())\n"
   ]
  },
  {
   "cell_type": "code",
   "execution_count": 3,
   "id": "c303ac5e-d250-4475-8fdb-28a5c681e8ed",
   "metadata": {},
   "outputs": [
    {
     "name": "stdout",
     "output_type": "stream",
     "text": [
      "      price  area  bedrooms  bathrooms  stories mainroad guestroom basement  \\\n",
      "0  13300000  7420         4          2        3      yes        no       no   \n",
      "1  12250000  8960         4          4        4      yes        no       no   \n",
      "2  12250000  9960         3          2        2      yes        no      yes   \n",
      "3  12215000  7500         4          2        2      yes        no      yes   \n",
      "4  11410000  7420         4          1        2      yes       yes      yes   \n",
      "\n",
      "  hotwaterheating airconditioning  parking prefarea furnishingstatus  \n",
      "0              no             yes        2      yes        furnished  \n",
      "1              no             yes        3       no        furnished  \n",
      "2              no              no        2      yes   semi-furnished  \n",
      "3              no             yes        3      yes        furnished  \n",
      "4              no             yes        2       no        furnished  \n"
     ]
    }
   ],
   "source": [
    "print(df.head())"
   ]
  },
  {
   "cell_type": "code",
   "execution_count": 5,
   "id": "bd6d709d-0564-4482-a912-e74fc581d012",
   "metadata": {},
   "outputs": [
    {
     "name": "stdout",
     "output_type": "stream",
     "text": [
      "<class 'pandas.core.frame.DataFrame'>\n",
      "RangeIndex: 545 entries, 0 to 544\n",
      "Data columns (total 13 columns):\n",
      " #   Column            Non-Null Count  Dtype \n",
      "---  ------            --------------  ----- \n",
      " 0   price             545 non-null    int64 \n",
      " 1   area              545 non-null    int64 \n",
      " 2   bedrooms          545 non-null    int64 \n",
      " 3   bathrooms         545 non-null    int64 \n",
      " 4   stories           545 non-null    int64 \n",
      " 5   mainroad          545 non-null    object\n",
      " 6   guestroom         545 non-null    object\n",
      " 7   basement          545 non-null    object\n",
      " 8   hotwaterheating   545 non-null    object\n",
      " 9   airconditioning   545 non-null    object\n",
      " 10  parking           545 non-null    int64 \n",
      " 11  prefarea          545 non-null    object\n",
      " 12  furnishingstatus  545 non-null    object\n",
      "dtypes: int64(6), object(7)\n",
      "memory usage: 55.5+ KB\n",
      "None\n"
     ]
    }
   ],
   "source": [
    "print(df.info())"
   ]
  },
  {
   "cell_type": "code",
   "execution_count": 7,
   "id": "226c4004-045d-4937-886c-23402d2a6dbe",
   "metadata": {},
   "outputs": [],
   "source": [
    "df = df[['price', 'area', 'bedrooms', 'bathrooms']]\n"
   ]
  },
  {
   "cell_type": "code",
   "execution_count": 9,
   "id": "4895c65f-634a-46ec-9b21-4d9f87f1fd55",
   "metadata": {},
   "outputs": [
    {
     "name": "stdout",
     "output_type": "stream",
     "text": [
      "price        0\n",
      "area         0\n",
      "bedrooms     0\n",
      "bathrooms    0\n",
      "dtype: int64\n"
     ]
    }
   ],
   "source": [
    "print(df.isnull().sum())\n"
   ]
  },
  {
   "cell_type": "code",
   "execution_count": 13,
   "id": "a0dc1b99-65cb-4b98-b3dc-bdb59d9959d7",
   "metadata": {},
   "outputs": [
    {
     "name": "stdout",
     "output_type": "stream",
     "text": [
      "        price  area  bedrooms  bathrooms\n",
      "0    13300000  7420         4          2\n",
      "1    12250000  8960         4          4\n",
      "2    12250000  9960         3          2\n",
      "3    12215000  7500         4          2\n",
      "4    11410000  7420         4          1\n",
      "..        ...   ...       ...        ...\n",
      "540   1820000  3000         2          1\n",
      "541   1767150  2400         3          1\n",
      "542   1750000  3620         2          1\n",
      "543   1750000  2910         3          1\n",
      "544   1750000  3850         3          1\n",
      "\n",
      "[545 rows x 4 columns]\n"
     ]
    }
   ],
   "source": [
    "df = df.dropna()\n",
    "print(df)\n"
   ]
  },
  {
   "cell_type": "code",
   "execution_count": 15,
   "id": "edb71dc7-cb34-4eb0-8a9e-096ac3e21af2",
   "metadata": {},
   "outputs": [
    {
     "name": "stdout",
     "output_type": "stream",
     "text": [
      "              price          area    bedrooms   bathrooms\n",
      "count  5.450000e+02    545.000000  545.000000  545.000000\n",
      "mean   4.766729e+06   5150.541284    2.965138    1.286239\n",
      "std    1.870440e+06   2170.141023    0.738064    0.502470\n",
      "min    1.750000e+06   1650.000000    1.000000    1.000000\n",
      "25%    3.430000e+06   3600.000000    2.000000    1.000000\n",
      "50%    4.340000e+06   4600.000000    3.000000    1.000000\n",
      "75%    5.740000e+06   6360.000000    3.000000    2.000000\n",
      "max    1.330000e+07  16200.000000    6.000000    4.000000\n",
      "      price  area  bedrooms  bathrooms\n",
      "0  13300000  7420         4          2\n",
      "1  12250000  8960         4          4\n",
      "2  12250000  9960         3          2\n",
      "3  12215000  7500         4          2\n",
      "4  11410000  7420         4          1\n"
     ]
    }
   ],
   "source": [
    "print(df.describe())\n",
    "print(df.head())\n"
   ]
  },
  {
   "cell_type": "code",
   "execution_count": 17,
   "id": "35b3ddf2-2c79-446d-b711-87addac7a306",
   "metadata": {},
   "outputs": [],
   "source": [
    "from sklearn.linear_model import LinearRegression\n",
    "from sklearn.model_selection import train_test_split\n",
    "from sklearn.metrics import mean_squared_error, r2_score\n"
   ]
  },
  {
   "cell_type": "code",
   "execution_count": 19,
   "id": "0b2ebf3d-1c53-4a01-8cf3-2ce1e4f23afa",
   "metadata": {},
   "outputs": [],
   "source": [
    "X = df[['area', 'bedrooms', 'bathrooms']]\n",
    "y = df['price']"
   ]
  },
  {
   "cell_type": "code",
   "execution_count": 21,
   "id": "2c000066-7d55-47f5-95ef-d0d9752fb43b",
   "metadata": {},
   "outputs": [],
   "source": [
    "# Step 2: Split into Train and Test Sets (80% train, 20% test)\n",
    "X_train, X_test, y_train, y_test = train_test_split(X, y, test_size=0.2, random_state=42)\n"
   ]
  },
  {
   "cell_type": "code",
   "execution_count": 23,
   "id": "aa1cc941-ab4a-4803-a193-fdf0ba50e50c",
   "metadata": {},
   "outputs": [],
   "source": [
    "# Step 3: Create and Train the Model\n",
    "model = LinearRegression()\n",
    "model.fit(X_train, y_train)\n",
    "\n",
    "# Step 4: Predict on Test Data\n",
    "y_pred = model.predict(X_test)\n"
   ]
  },
  {
   "cell_type": "code",
   "execution_count": 25,
   "id": "27605653-fe72-4c66-977a-8e413c7bae01",
   "metadata": {},
   "outputs": [],
   "source": [
    "# Step 5: Evaluate the Model\n",
    "mse = mean_squared_error(y_test, y_pred)\n",
    "r2 = r2_score(y_test, y_pred)"
   ]
  },
  {
   "cell_type": "code",
   "execution_count": 27,
   "id": "5d34646d-e996-4484-857a-14969b412e53",
   "metadata": {},
   "outputs": [
    {
     "name": "stdout",
     "output_type": "stream",
     "text": [
      "Mean Squared Error: 2750040479309.0503\n",
      "R-squared Score: 0.45592991188724485\n"
     ]
    }
   ],
   "source": [
    "# Step 6: Print Results\n",
    "print(\"Mean Squared Error:\", mse)\n",
    "print(\"R-squared Score:\", r2)"
   ]
  },
  {
   "cell_type": "code",
   "execution_count": 29,
   "id": "f5c5bfba-a2c0-4946-aae7-5652fb965e55",
   "metadata": {},
   "outputs": [
    {
     "name": "stdout",
     "output_type": "stream",
     "text": [
      "Coefficients: [3.45466570e+02 3.60197650e+05 1.42231966e+06]\n",
      "Intercept: 59485.379208717495\n"
     ]
    }
   ],
   "source": [
    "# Optional: Show coefficients\n",
    "print(\"Coefficients:\", model.coef_)\n",
    "print(\"Intercept:\", model.intercept_)"
   ]
  },
  {
   "cell_type": "code",
   "execution_count": 31,
   "id": "b903a13d-8ecb-40dc-8585-ad33d52c58f1",
   "metadata": {},
   "outputs": [
    {
     "name": "stdout",
     "output_type": "stream",
     "text": [
      "      Actual     Predicted\n",
      "316  4060000  6.383168e+06\n",
      "77   6650000  6.230250e+06\n",
      "360  3710000  3.597885e+06\n",
      "90   6440000  4.289731e+06\n",
      "493  2800000  3.930446e+06\n",
      "209  4900000  4.883933e+06\n",
      "176  5250000  5.505773e+06\n",
      "249  4543000  6.068793e+06\n",
      "516  2450000  3.321512e+06\n",
      "426  3353000  3.495158e+06\n"
     ]
    }
   ],
   "source": [
    "# Compare actual vs predicted\n",
    "comparison = pd.DataFrame({'Actual': y_test, 'Predicted': y_pred})\n",
    "print(comparison.head(10))\n"
   ]
  },
  {
   "cell_type": "code",
   "execution_count": null,
   "id": "b34cfe86-9dd8-4c4b-9be2-3301baffd2b1",
   "metadata": {},
   "outputs": [],
   "source": [
    "import matplotlib.pyplot as plt\n",
    "import seaborn as sns\n"
   ]
  },
  {
   "cell_type": "code",
   "execution_count": null,
   "id": "19eab01d-6b69-4266-baf7-672cd77e1ebf",
   "metadata": {},
   "outputs": [],
   "source": []
  },
  {
   "cell_type": "code",
   "execution_count": null,
   "id": "e807d352-ffb9-465c-bd4d-c69b0e770c26",
   "metadata": {},
   "outputs": [],
   "source": []
  },
  {
   "cell_type": "code",
   "execution_count": null,
   "id": "6bc67f27-afa3-479a-b1c1-051d5c31e216",
   "metadata": {},
   "outputs": [],
   "source": []
  },
  {
   "cell_type": "code",
   "execution_count": null,
   "id": "cd80ed4b-cfad-4a8c-acac-492cde9bcd10",
   "metadata": {},
   "outputs": [],
   "source": []
  },
  {
   "cell_type": "code",
   "execution_count": null,
   "id": "987f9db5-c4a1-48cb-825e-7508937e1595",
   "metadata": {},
   "outputs": [],
   "source": []
  },
  {
   "cell_type": "code",
   "execution_count": null,
   "id": "c43cc383-fe9a-4c6d-8383-195e3d96ce5e",
   "metadata": {},
   "outputs": [],
   "source": []
  },
  {
   "cell_type": "code",
   "execution_count": null,
   "id": "61736da2-5ea0-410c-81bc-f0d5b8c98736",
   "metadata": {},
   "outputs": [],
   "source": []
  },
  {
   "cell_type": "code",
   "execution_count": null,
   "id": "5e0e5c99-5c83-4dd9-acc7-6fc380bb4910",
   "metadata": {},
   "outputs": [],
   "source": []
  }
 ],
 "metadata": {
  "kernelspec": {
   "display_name": "Python 3 (ipykernel)",
   "language": "python",
   "name": "python3"
  },
  "language_info": {
   "codemirror_mode": {
    "name": "ipython",
    "version": 3
   },
   "file_extension": ".py",
   "mimetype": "text/x-python",
   "name": "python",
   "nbconvert_exporter": "python",
   "pygments_lexer": "ipython3",
   "version": "3.12.4"
  }
 },
 "nbformat": 4,
 "nbformat_minor": 5
}
